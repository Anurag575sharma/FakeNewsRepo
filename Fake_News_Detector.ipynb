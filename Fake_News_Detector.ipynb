{
  "cells": [
    {
      "cell_type": "markdown",
      "metadata": {
        "id": "H45EnhM6HyQ0"
      },
      "source": [
        "#Here we are importing necessary libraries"
      ]
    },
    {
      "cell_type": "code",
      "execution_count": 3,
      "metadata": {
        "id": "vZvWxAIy4B-j"
      },
      "outputs": [],
      "source": [
        "import pandas as pd\n",
        "import numpy as np\n",
        "import re\n",
        "import nltk\n",
        "from nltk.tokenize import word_tokenize\n",
        "from nltk import pos_tag\n",
        "from nltk.corpus import wordnet, stopwords\n",
        "from nltk.stem import WordNetLemmatizer\n",
        "from sklearn.feature_extraction.text import TfidfVectorizer\n",
        "from sklearn.model_selection import train_test_split\n",
        "from sklearn.linear_model import LogisticRegression\n",
        "from sklearn.metrics import accuracy_score, classification_report, confusion_matrix, ConfusionMatrixDisplay\n",
        "import joblib\n",
        "import matplotlib.pyplot as plt\n",
        "# from google.colab import files\n",
        "import os"
      ]
    },
    {
      "cell_type": "markdown",
      "metadata": {
        "id": "i0LQepdtH_G1"
      },
      "source": [
        "#Here we are downloading NLTK resources"
      ]
    },
    {
      "cell_type": "code",
      "execution_count": 4,
      "metadata": {
        "colab": {
          "base_uri": "https://localhost:8080/"
        },
        "collapsed": true,
        "id": "LHNuQfgZ4oSz",
        "outputId": "0e3ff9ed-71e4-43c9-8e8c-2dbea30b3f9a"
      },
      "outputs": [
        {
          "name": "stderr",
          "output_type": "stream",
          "text": [
            "[nltk_data] Downloading package punkt to\n",
            "[nltk_data]     C:\\Users\\tamra\\AppData\\Roaming\\nltk_data...\n",
            "[nltk_data]   Package punkt is already up-to-date!\n",
            "[nltk_data] Downloading package wordnet to\n",
            "[nltk_data]     C:\\Users\\tamra\\AppData\\Roaming\\nltk_data...\n",
            "[nltk_data]   Package wordnet is already up-to-date!\n",
            "[nltk_data] Downloading package omw-1.4 to\n",
            "[nltk_data]     C:\\Users\\tamra\\AppData\\Roaming\\nltk_data...\n",
            "[nltk_data]   Package omw-1.4 is already up-to-date!\n",
            "[nltk_data] Downloading package averaged_perceptron_tagger to\n",
            "[nltk_data]     C:\\Users\\tamra\\AppData\\Roaming\\nltk_data...\n",
            "[nltk_data]   Package averaged_perceptron_tagger is already up-to-\n",
            "[nltk_data]       date!\n",
            "[nltk_data] Downloading package stopwords to\n",
            "[nltk_data]     C:\\Users\\tamra\\AppData\\Roaming\\nltk_data...\n",
            "[nltk_data]   Package stopwords is already up-to-date!\n"
          ]
        },
        {
          "data": {
            "text/plain": [
              "True"
            ]
          },
          "execution_count": 4,
          "metadata": {},
          "output_type": "execute_result"
        }
      ],
      "source": [
        "# Download NLTK resources\n",
        "nltk.download('punkt')\n",
        "nltk.download('wordnet')\n",
        "nltk.download('omw-1.4')  # For lemmatizer support\n",
        "nltk.download('averaged_perceptron_tagger')  # For POS tagging\n",
        "nltk.download('stopwords')"
      ]
    },
    {
      "cell_type": "markdown",
      "metadata": {
        "id": "0qCwPltMG-eb"
      },
      "source": [
        "#Connecting Google Drive"
      ]
    },
    {
      "cell_type": "markdown",
      "metadata": {
        "id": "F9ifeSrmHDe3"
      },
      "source": [
        "#Here we are Loading the Dataset"
      ]
    },
    {
      "cell_type": "code",
      "execution_count": 3,
      "metadata": {
        "colab": {
          "base_uri": "https://localhost:8080/"
        },
        "id": "TWTH6DgFE23C",
        "outputId": "13f935d4-faf8-419f-fad6-5103c9f6a8cf"
      },
      "outputs": [
        {
          "name": "stdout",
          "output_type": "stream",
          "text": [
            "(72134, 4)\n"
          ]
        },
        {
          "data": {
            "text/html": [
              "<div>\n",
              "<style scoped>\n",
              "    .dataframe tbody tr th:only-of-type {\n",
              "        vertical-align: middle;\n",
              "    }\n",
              "\n",
              "    .dataframe tbody tr th {\n",
              "        vertical-align: top;\n",
              "    }\n",
              "\n",
              "    .dataframe thead th {\n",
              "        text-align: right;\n",
              "    }\n",
              "</style>\n",
              "<table border=\"1\" class=\"dataframe\">\n",
              "  <thead>\n",
              "    <tr style=\"text-align: right;\">\n",
              "      <th></th>\n",
              "      <th>Unnamed: 0</th>\n",
              "      <th>title</th>\n",
              "      <th>text</th>\n",
              "      <th>label</th>\n",
              "    </tr>\n",
              "  </thead>\n",
              "  <tbody>\n",
              "    <tr>\n",
              "      <th>0</th>\n",
              "      <td>0</td>\n",
              "      <td>LAW ENFORCEMENT ON HIGH ALERT Following Threat...</td>\n",
              "      <td>No comment is expected from Barack Obama Membe...</td>\n",
              "      <td>1</td>\n",
              "    </tr>\n",
              "    <tr>\n",
              "      <th>1</th>\n",
              "      <td>1</td>\n",
              "      <td>NaN</td>\n",
              "      <td>Did they post their votes for Hillary already?</td>\n",
              "      <td>1</td>\n",
              "    </tr>\n",
              "    <tr>\n",
              "      <th>2</th>\n",
              "      <td>2</td>\n",
              "      <td>UNBELIEVABLE! OBAMA’S ATTORNEY GENERAL SAYS MO...</td>\n",
              "      <td>Now, most of the demonstrators gathered last ...</td>\n",
              "      <td>1</td>\n",
              "    </tr>\n",
              "    <tr>\n",
              "      <th>3</th>\n",
              "      <td>3</td>\n",
              "      <td>Bobby Jindal, raised Hindu, uses story of Chri...</td>\n",
              "      <td>A dozen politically active pastors came here f...</td>\n",
              "      <td>0</td>\n",
              "    </tr>\n",
              "    <tr>\n",
              "      <th>4</th>\n",
              "      <td>4</td>\n",
              "      <td>SATAN 2: Russia unvelis an image of its terrif...</td>\n",
              "      <td>The RS-28 Sarmat missile, dubbed Satan 2, will...</td>\n",
              "      <td>1</td>\n",
              "    </tr>\n",
              "  </tbody>\n",
              "</table>\n",
              "</div>"
            ],
            "text/plain": [
              "   Unnamed: 0                                              title  \\\n",
              "0           0  LAW ENFORCEMENT ON HIGH ALERT Following Threat...   \n",
              "1           1                                                NaN   \n",
              "2           2  UNBELIEVABLE! OBAMA’S ATTORNEY GENERAL SAYS MO...   \n",
              "3           3  Bobby Jindal, raised Hindu, uses story of Chri...   \n",
              "4           4  SATAN 2: Russia unvelis an image of its terrif...   \n",
              "\n",
              "                                                text  label  \n",
              "0  No comment is expected from Barack Obama Membe...      1  \n",
              "1     Did they post their votes for Hillary already?      1  \n",
              "2   Now, most of the demonstrators gathered last ...      1  \n",
              "3  A dozen politically active pastors came here f...      0  \n",
              "4  The RS-28 Sarmat missile, dubbed Satan 2, will...      1  "
            ]
          },
          "execution_count": 3,
          "metadata": {},
          "output_type": "execute_result"
        }
      ],
      "source": [
        "import pandas as pd\n",
        "\n",
        "file_path = \"G:\\minor project\\deepak\\WELFake_Dataset.csv\"  # Update this\n",
        "df = pd.read_csv(file_path)\n",
        "\n",
        "print(df.shape)  # Check dataset size\n",
        "df.head()  # View first 5 rows"
      ]
    },
    {
      "cell_type": "code",
      "execution_count": 5,
      "metadata": {},
      "outputs": [],
      "source": [
        "import pandas as pd\n",
        "\n",
        "df = pd.read_csv(\"train.csv\", header=None)\n",
        "\n",
        "# Select only label and text\n",
        "df = df[[1, 2]]\n",
        "df.columns = ['label', 'text']\n",
        "\n",
        "# Map multi-class to binary class\n",
        "fake_labels = ['false', 'pants-fire', 'barely-true']\n",
        "df['label'] = df['label'].apply(lambda x: 0 if x in fake_labels else 1)\n"
      ]
    },
    {
      "cell_type": "markdown",
      "metadata": {
        "id": "QLOhkHqgGk8h"
      },
      "source": [
        "#Preprocess the Dataset\n",
        "Now, let's clean the data"
      ]
    },
    {
      "cell_type": "markdown",
      "metadata": {
        "id": "wuEhAfvkGhGz"
      },
      "source": [
        "Check for missing values"
      ]
    },
    {
      "cell_type": "code",
      "execution_count": 6,
      "metadata": {
        "colab": {
          "base_uri": "https://localhost:8080/"
        },
        "id": "a64s9-ySFkGH",
        "outputId": "f4f354b5-a977-425a-9917-e26d2907b887"
      },
      "outputs": [
        {
          "name": "stdout",
          "output_type": "stream",
          "text": [
            "label    0\n",
            "text     0\n",
            "dtype: int64\n"
          ]
        }
      ],
      "source": [
        "print(df.isnull().sum())  # Shows missing values in each column"
      ]
    },
    {
      "cell_type": "markdown",
      "metadata": {
        "id": "KJg2qMgGGeJs"
      },
      "source": [
        "Drop missing values (if necessary)"
      ]
    },
    {
      "cell_type": "code",
      "execution_count": 7,
      "metadata": {
        "colab": {
          "base_uri": "https://localhost:8080/"
        },
        "id": "1J_CMthnFt3l",
        "outputId": "2849ecb0-d7ab-415b-f974-7166098552ff"
      },
      "outputs": [
        {
          "name": "stdout",
          "output_type": "stream",
          "text": [
            "(10240, 2)\n"
          ]
        }
      ],
      "source": [
        "df = df.dropna()\n",
        "print(df.shape)  # Check new dataset size after cleaning"
      ]
    },
    {
      "cell_type": "markdown",
      "metadata": {
        "id": "DaOinj9CGbWP"
      },
      "source": [
        "Remove duplicate rows (if any)"
      ]
    },
    {
      "cell_type": "code",
      "execution_count": 8,
      "metadata": {
        "colab": {
          "base_uri": "https://localhost:8080/"
        },
        "id": "eoOsT4NSF2k9",
        "outputId": "6b27e88c-f782-443c-e7bf-97ca40509c5a"
      },
      "outputs": [
        {
          "name": "stdout",
          "output_type": "stream",
          "text": [
            "(10224, 2)\n"
          ]
        }
      ],
      "source": [
        "df = df.drop_duplicates()\n",
        "print(df.shape)  # Check dataset size after removing duplicates"
      ]
    },
    {
      "cell_type": "markdown",
      "metadata": {
        "id": "aSWdLIYiGaB_"
      },
      "source": [
        "#Check the dataset structure"
      ]
    },
    {
      "cell_type": "code",
      "execution_count": 9,
      "metadata": {
        "colab": {
          "base_uri": "https://localhost:8080/"
        },
        "id": "FWODS9SPF8R_",
        "outputId": "9df71448-b79c-4b02-edff-a3335a122677"
      },
      "outputs": [
        {
          "name": "stdout",
          "output_type": "stream",
          "text": [
            "<class 'pandas.core.frame.DataFrame'>\n",
            "Index: 10224 entries, 0 to 10239\n",
            "Data columns (total 2 columns):\n",
            " #   Column  Non-Null Count  Dtype \n",
            "---  ------  --------------  ----- \n",
            " 0   label   10224 non-null  int64 \n",
            " 1   text    10224 non-null  object\n",
            "dtypes: int64(1), object(1)\n",
            "memory usage: 239.6+ KB\n",
            "None\n"
          ]
        }
      ],
      "source": [
        "print(df.info())  # Shows column names and data types"
      ]
    },
    {
      "cell_type": "markdown",
      "metadata": {
        "id": "2tAH7n0OGzGD"
      },
      "source": [
        "#Check Data Distribution\n",
        "If your dataset has a \"label\" column (Fake / Real), check distribution"
      ]
    },
    {
      "cell_type": "markdown",
      "metadata": {
        "id": "5uElQ9OhGTSH"
      },
      "source": [
        "Now, your dataset is loaded and cleaned"
      ]
    },
    {
      "cell_type": "code",
      "execution_count": 10,
      "metadata": {
        "colab": {
          "base_uri": "https://localhost:8080/"
        },
        "id": "qw2JNHq5GCCt",
        "outputId": "13628d6d-b7ed-4650-ad1f-537d96fb96d8"
      },
      "outputs": [
        {
          "name": "stdout",
          "output_type": "stream",
          "text": [
            "label\n",
            "1    7731\n",
            "0    2493\n",
            "Name: count, dtype: int64\n"
          ]
        }
      ],
      "source": [
        "print(df[\"label\"].value_counts())  # Count number of Fake & Real news"
      ]
    },
    {
      "cell_type": "markdown",
      "metadata": {
        "id": "GgiNxbgGIkSq"
      },
      "source": [
        "#Data set imbalance ratio calculation"
      ]
    },
    {
      "cell_type": "code",
      "execution_count": 11,
      "metadata": {
        "colab": {
          "base_uri": "https://localhost:8080/"
        },
        "id": "mXIII6xxIjQ5",
        "outputId": "635cd32f-88c3-47c3-96fb-7c00043e3971"
      },
      "outputs": [
        {
          "name": "stdout",
          "output_type": "stream",
          "text": [
            "Imbalance Ratio: 3.10\n"
          ]
        }
      ],
      "source": [
        "imbalance_ratio = df['label'].value_counts().max() / df['label'].value_counts().min()\n",
        "print(f\"Imbalance Ratio: {imbalance_ratio:.2f}\")"
      ]
    },
    {
      "cell_type": "markdown",
      "metadata": {
        "id": "uWYIXeTOxPC9"
      },
      "source": [
        "#we are using bar chart to see the imbalance in data."
      ]
    },
    {
      "cell_type": "code",
      "execution_count": 12,
      "metadata": {
        "colab": {
          "base_uri": "https://localhost:8080/",
          "height": 467
        },
        "id": "THlIXiRBxKIQ",
        "outputId": "a936e460-5694-4160-813b-8187d38ec26e"
      },
      "outputs": [
        {
          "data": {
            "image/png": "[encoded data removed]",
            "text/plain": [
              "<Figure size 640x480 with 1 Axes>"
            ]
          },
          "metadata": {},
          "output_type": "display_data"
        }
      ],
      "source": [
        "import matplotlib.pyplot as plt\n",
        "\n",
        "df[\"label\"].value_counts().plot(kind=\"bar\", color=[\"blue\", \"orange\"])\n",
        "plt.xlabel(\"News Type\")\n",
        "plt.ylabel(\"Count\")\n",
        "plt.title(\"Class Distribution in Fake News Dataset\")\n",
        "plt.show()"
      ]
    },
    {
      "cell_type": "markdown",
      "metadata": {
        "id": "iOmlE-IZJwpj"
      },
      "source": [
        "Steps for Text Preprocessing\n",
        " * Convert text to lowercase (to maintain consistency)\n",
        "* Remove special characters, numbers, and punctuation\n",
        "* Remove stopwords (e.g., is, the, in, and)\n",
        "* Apply stemming (reduce words to root form, e.g., running → run)\n",
        "* Convert text into numerical form (TF-IDF)"
      ]
    },
    {
      "cell_type": "markdown",
      "metadata": {
        "id": "OsI6r7OBJ0AY"
      },
      "source": [
        " Load the Dataset\n",
        "Since you've already loaded the dataset, let’s check the text column:"
      ]
    },
    {
      "cell_type": "code",
      "execution_count": 13,
      "metadata": {
        "colab": {
          "base_uri": "https://localhost:8080/"
        },
        "id": "VpoC1ql7JvGv",
        "outputId": "0b38c258-ce48-4fad-f7b6-b8e736ace3cb"
      },
      "outputs": [
        {
          "name": "stdout",
          "output_type": "stream",
          "text": [
            "   label                                               text\n",
            "0      1  Says the Annies List political group supports ...\n",
            "1      1  When did the decline of coal start? It started...\n",
            "2      1  Hillary Clinton agrees with John McCain \"by vo...\n",
            "3      1  Health care reform legislation is likely to ma...\n",
            "4      1  The economic turnaround started at the end of ...\n"
          ]
        }
      ],
      "source": [
        "print(df.head())  # View dataset structure"
      ]
    },
    {
      "cell_type": "markdown",
      "metadata": {
        "id": "o7CKE3uzK5tN"
      },
      "source": [
        "Install and Import Libraries"
      ]
    },
    {
      "cell_type": "code",
      "execution_count": 14,
      "metadata": {
        "colab": {
          "base_uri": "https://localhost:8080/"
        },
        "collapsed": true,
        "id": "CqQJSb0VK1t7",
        "outputId": "c567e32d-5a01-4364-8419-5b6b348af206"
      },
      "outputs": [
        {
          "name": "stderr",
          "output_type": "stream",
          "text": [
            "[nltk_data] Downloading package punkt to\n",
            "[nltk_data]     C:\\Users\\tamra\\AppData\\Roaming\\nltk_data...\n",
            "[nltk_data]   Package punkt is already up-to-date!\n",
            "[nltk_data] Downloading package stopwords to\n",
            "[nltk_data]     C:\\Users\\tamra\\AppData\\Roaming\\nltk_data...\n",
            "[nltk_data]   Package stopwords is already up-to-date!\n",
            "[nltk_data] Downloading package wordnet to\n",
            "[nltk_data]     C:\\Users\\tamra\\AppData\\Roaming\\nltk_data...\n",
            "[nltk_data]   Package wordnet is already up-to-date!\n",
            "[nltk_data] Downloading package punkt to\n",
            "[nltk_data]     C:\\Users\\tamra\\AppData\\Roaming\\nltk_data...\n",
            "[nltk_data]   Package punkt is already up-to-date!\n"
          ]
        },
        {
          "data": {
            "text/plain": [
              "True"
            ]
          },
          "execution_count": 14,
          "metadata": {},
          "output_type": "execute_result"
        }
      ],
      "source": [
        "from nltk.corpus import stopwords\n",
        "from nltk.tokenize import word_tokenize\n",
        "from nltk.stem import WordNetLemmatizer\n",
        "nltk.download('punkt')\n",
        "nltk.download('stopwords')\n",
        "nltk.download('wordnet')\n",
        "import nltk\n",
        "nltk.download('punkt')\n"
      ]
    },
    {
      "cell_type": "markdown",
      "metadata": {
        "id": "pagMrQMs0KWf"
      },
      "source": [
        "#Convert Text into Numerical Features (TF-IDF Vectorization)\n",
        "\n",
        "Since machine learning models can’t process text directly, we convert text into numerical vectors. The TF-IDF (Term Frequency-Inverse Document Frequency) method works well for NLP tasks like Fake News Detection."
      ]
    },
    {
      "cell_type": "code",
      "execution_count": 15,
      "metadata": {
        "colab": {
          "base_uri": "https://localhost:8080/"
        },
        "id": "1d3zsZO_J_pL",
        "outputId": "64354c42-c6cc-4199-98fb-6c2cc85bad4b"
      },
      "outputs": [
        {
          "name": "stdout",
          "output_type": "stream",
          "text": [
            "sample sentence testing text processing pipeline\n"
          ]
        }
      ],
      "source": [
        "# Initialize lemmatizer and stopwords\n",
        "lemmatizer = WordNetLemmatizer()\n",
        "stop_words = set(stopwords.words(\"english\"))\n",
        "\n",
        "def get_wordnet_pos(tag):\n",
        "    if tag.startswith('J'):\n",
        "        return wordnet.ADJ\n",
        "    elif tag.startswith('V'):\n",
        "        return wordnet.VERB\n",
        "    elif tag.startswith('N'):\n",
        "        return wordnet.NOUN\n",
        "    elif tag.startswith('R'):\n",
        "        return wordnet.ADV\n",
        "    else:\n",
        "        return wordnet.NOUN\n",
        "\n",
        "def preprocess_text(text):\n",
        "    text = text.lower()\n",
        "    text = re.sub(r\"[^a-zA-Z\\s]\", \"\", text)\n",
        "    words = re.findall(r'\\b\\w+\\b', text)  # This will extract words using regular expression\n",
        "    words = [lemmatizer.lemmatize(word) for word in words if word not in stop_words]\n",
        "    return \" \".join(words)\n",
        "\n",
        "\n",
        "# Sample text to test the preprocessing\n",
        "sample_text = \"This is a sample sentence for testing the text processing pipeline.\"\n",
        "\n",
        "# Preprocess the text\n",
        "processed_text = preprocess_text(sample_text)\n",
        "print(processed_text)\n"
      ]
    },
    {
      "cell_type": "markdown",
      "metadata": {
        "id": "gFKMgce62Q7q"
      },
      "source": [
        "Why TF-IDF is Useful for Fake News Detection?\n",
        "\n",
        "\n",
        "* Removes common words that don’t add meaning (e.g., \"the\", \"is\").\n",
        "* Assigns higher importance to unique words (e.g., \"propaganda\", \"hoax\").\n",
        "* Prepares data for ML models like Logistic Regression, SVM, or Neural Networks.\n",
        "\n"
      ]
    },
    {
      "cell_type": "code",
      "execution_count": 16,
      "metadata": {
        "colab": {
          "base_uri": "https://localhost:8080/"
        },
        "id": "ts5dduobzSmN",
        "outputId": "2812dc54-9e95-43a0-bbbb-da6ab4b1005e"
      },
      "outputs": [
        {
          "name": "stdout",
          "output_type": "stream",
          "text": [
            "Index(['label', 'text', 'cleaned_text'], dtype='object')\n"
          ]
        }
      ],
      "source": [
        "# Apply preprocessing to the 'text' column\n",
        "df[\"cleaned_text\"] = df[\"text\"].apply(preprocess_text)\n",
        "\n",
        "# Check if 'cleaned_text' is created\n",
        "print(df.columns)  # Ensure 'cleaned_text' exists"
      ]
    },
    {
      "cell_type": "markdown",
      "metadata": {
        "id": "s4mvts2E1j9l"
      },
      "source": [
        "max_features=5000: Keeps only the top 5000 most important words (to reduce computational load)."
      ]
    },
    {
      "cell_type": "code",
      "execution_count": 17,
      "metadata": {
        "colab": {
          "base_uri": "https://localhost:8080/"
        },
        "id": "BaflGT9f0J1R",
        "outputId": "ba9b8652-da5c-4149-deea-c897bbaa3f32"
      },
      "outputs": [
        {
          "name": "stdout",
          "output_type": "stream",
          "text": [
            "(10224, 5000)\n"
          ]
        }
      ],
      "source": [
        "from sklearn.feature_extraction.text import TfidfVectorizer\n",
        "\n",
        "vectorizer = TfidfVectorizer(max_features=5000)  # Convert text to 5000 features\n",
        "X = vectorizer.fit_transform(df[\"cleaned_text\"])\n",
        "\n",
        "print(X.shape)  # Check shape of feature matrix"
      ]
    },
    {
      "cell_type": "markdown",
      "metadata": {
        "id": "VevS3KlF0fRL"
      },
      "source": [
        " Prepare Labels for Model Training\n",
        "Convert labels (Fake, Real) into numerical format (0, 1):"
      ]
    },
    {
      "cell_type": "code",
      "execution_count": 18,
      "metadata": {
        "id": "Yfbe_VpR0nGR"
      },
      "outputs": [],
      "source": [
        "y = df[\"label\"].map({\"Fake\": 0, \"Real\": 1})  # Encode Fake as 0, Real as 1"
      ]
    },
    {
      "cell_type": "markdown",
      "metadata": {
        "id": "-2KajNGb2l4v"
      },
      "source": [
        "Here we will train our model"
      ]
    },
    {
      "cell_type": "markdown",
      "metadata": {
        "id": "7rjPtIkTkP25"
      },
      "source": [
        "#Logistic Regression model"
      ]
    },
    {
      "cell_type": "code",
      "execution_count": 19,
      "metadata": {
        "colab": {
          "base_uri": "https://localhost:8080/"
        },
        "id": "VwGQHkfX2kAB",
        "outputId": "31bcf33b-e5ff-472c-c24e-f3fbaef792a6"
      },
      "outputs": [
        {
          "name": "stdout",
          "output_type": "stream",
          "text": [
            "NaN values in target variable: 10224\n",
            "Training Samples: 8179, Testing Samples: 2045\n",
            "Accuracy: 0.6230\n",
            "Classification Report:\n",
            "               precision    recall  f1-score   support\n",
            "\n",
            "           0       0.31      0.47      0.37       493\n",
            "           1       0.80      0.67      0.73      1552\n",
            "\n",
            "    accuracy                           0.62      2045\n",
            "   macro avg       0.56      0.57      0.55      2045\n",
            "weighted avg       0.68      0.62      0.64      2045\n",
            "\n"
          ]
        }
      ],
      "source": [
        "# Check if there are NaN values in y\n",
        "print(f\"NaN values in target variable: {y.isna().sum()}\")\n",
        "\n",
        "# Remove rows where y is NaN\n",
        "df_clean = df.dropna(subset=['text', 'label'])  # Assuming 'text' is your feature column and 'label' is the target column\n",
        "\n",
        "# Update X and y\n",
        "X_clean = vectorizer.fit_transform(df_clean[\"cleaned_text\"])\n",
        "y_clean = df_clean[\"label\"]\n",
        "\n",
        "# Split data again (80% training, 20% testing)\n",
        "X_train, X_test, y_train, y_test = train_test_split(X_clean, y_clean, test_size=0.2, random_state=42)\n",
        "\n",
        "print(f\"Training Samples: {X_train.shape[0]}, Testing Samples: {X_test.shape[0]}\")\n",
        "\n",
        "# Initialize and train the Logistic Regression model\n",
        "lr_model = LogisticRegression(class_weight='balanced')\n",
        "lr_model.fit(X_train, y_train)\n",
        "\n",
        "# Predict on the test data\n",
        "y_pred = lr_model.predict(X_test)\n",
        "\n",
        "# Calculate accuracy\n",
        "accuracy = accuracy_score(y_test, y_pred)\n",
        "print(f\"Accuracy: {accuracy:.4f}\")\n",
        "\n",
        "# Print detailed classification report\n",
        "print(\"Classification Report:\\n\", classification_report(y_test, y_pred))\n"
      ]
    },
    {
      "cell_type": "code",
      "execution_count": null,
      "metadata": {},
      "outputs": [],
      "source": []
    },
    {
      "cell_type": "markdown",
      "metadata": {
        "id": "nJ3ktoE8X_BA"
      },
      "source": [
        "Saving the Model and vectorizer → So we can deploy it."
      ]
    },
    {
      "cell_type": "code",
      "execution_count": 20,
      "metadata": {
        "colab": {
          "base_uri": "https://localhost:8080/"
        },
        "id": "Ummg6F26pivV",
        "outputId": "593a8c63-7acf-478a-b6e5-322c96c6d3ee"
      },
      "outputs": [
        {
          "name": "stdout",
          "output_type": "stream",
          "text": [
            "Model and vectorizer saved.\n"
          ]
        }
      ],
      "source": [
        "import joblib\n",
        "joblib.dump(lr_model, 'Fake_News_Model.pkl')\n",
        "joblib.dump(vectorizer, 'tfidf_vectorizer.pkl')\n",
        "print(\"Model and vectorizer saved.\")"
      ]
    },
    {
      "cell_type": "code",
      "execution_count": 21,
      "metadata": {
        "colab": {
          "base_uri": "https://localhost:8080/",
          "height": 472
        },
        "id": "-SmvVrpX8O9T",
        "outputId": "d3ae1fca-29da-4755-dc4e-5ca173e3511d"
      },
      "outputs": [
        {
          "data": {
            "image/png": "[encoded data removed]",
            "text/plain": [
              "<Figure size 640x480 with 2 Axes>"
            ]
          },
          "metadata": {},
          "output_type": "display_data"
        }
      ],
      "source": [
        "from sklearn.metrics import confusion_matrix, ConfusionMatrixDisplay\n",
        "\n",
        "# Confusion Matrix\n",
        "cm = confusion_matrix(y_test, y_pred)\n",
        "disp = ConfusionMatrixDisplay(confusion_matrix=cm, display_labels=[\"Fake\", \"Real\"])\n",
        "disp.plot(cmap=\"Blues\", values_format=\"d\")\n",
        "plt.title(\"Confusion Matrix for Fake News Detection\")\n",
        "plt.show()"
      ]
    },
    {
      "cell_type": "markdown",
      "metadata": {
        "id": "8BDKpQhupeM7"
      },
      "source": [
        "checking the file, if they existed in colab temporary."
      ]
    },
    {
      "cell_type": "code",
      "execution_count": 22,
      "metadata": {
        "colab": {
          "base_uri": "https://localhost:8080/"
        },
        "id": "lqDKpAWVorK7",
        "outputId": "1a0597ea-3f57-4cc4-e1e0-a8f0d4d2a22e"
      },
      "outputs": [
        {
          "data": {
            "text/plain": [
              "['FakeNewsClassifierUsingBidirectionalLSTM.ipynb',\n",
              " 'FakeNewsDetection.ipynb',\n",
              " 'Fake_News_Detector.ipynb',\n",
              " 'Fake_News_Model.pkl',\n",
              " 'liar_dataset.zip',\n",
              " 'NLPproject_6.ipynb',\n",
              " 'nlp_progress_report.docx',\n",
              " 'Paper Format Report.docx',\n",
              " 'README',\n",
              " 'test.tsv',\n",
              " 'tfidf_vectorizer.pkl',\n",
              " 'train.csv',\n",
              " 'train.tsv',\n",
              " 'valid.tsv']"
            ]
          },
          "execution_count": 22,
          "metadata": {},
          "output_type": "execute_result"
        }
      ],
      "source": [
        "import os\n",
        "os.listdir()"
      ]
    },
    {
      "cell_type": "code",
      "execution_count": 23,
      "metadata": {
        "colab": {
          "base_uri": "https://localhost:8080/"
        },
        "id": "8wTSEc-qoH8z",
        "outputId": "47309709-3045-4399-d4ac-c3b171a8b4e6"
      },
      "outputs": [
        {
          "name": "stdout",
          "output_type": "stream",
          "text": [
            "Prediction: Fake\n"
          ]
        }
      ],
      "source": [
        "# Load the saved model and vectorizer\n",
        "model = joblib.load(\"Fake_News_Model.pkl\")\n",
        "vectorizer = joblib.load(\"tfidf_vectorizer.pkl\")\n",
        "\n",
        "# Preprocess the sample text\n",
        "sample_text = preprocess_text(\"Dead broke! yes, that another doozy that Hilla..\")\n",
        "\n",
        "# Transform and convert the vector to dense\n",
        "sample_vector = vectorizer.transform([sample_text]).toarray()\n",
        "\n",
        "# Predict using the dense vector\n",
        "prediction = model.predict(sample_vector)\n",
        "\n",
        "# Print the prediction result\n",
        "print(\"Prediction:\", \"Fake\" if prediction[0] == 0 else \"Real\")\n"
      ]
    },
    {
      "cell_type": "code",
      "execution_count": 25,
      "metadata": {},
      "outputs": [
        {
          "name": "stdout",
          "output_type": "stream",
          "text": [
            "Accuracy: 0.6559\n",
            "Classification Report:\n",
            "               precision    recall  f1-score   support\n",
            "\n",
            "           0       0.34      0.48      0.40       304\n",
            "           1       0.81      0.71      0.76       963\n",
            "\n",
            "    accuracy                           0.66      1267\n",
            "   macro avg       0.58      0.59      0.58      1267\n",
            "weighted avg       0.70      0.66      0.67      1267\n",
            "\n"
          ]
        }
      ],
      "source": [
        "import pandas as pd\n",
        "from sklearn.feature_extraction.text import TfidfVectorizer\n",
        "from sklearn.linear_model import LogisticRegression\n",
        "from sklearn.metrics import accuracy_score, classification_report\n",
        "\n",
        "# Load datasets\n",
        "def load_and_prepare(filepath):\n",
        "    df = pd.read_csv(filepath, header=None)\n",
        "    df = df[[1, 2]]  # [label, text]\n",
        "    df.columns = ['label', 'text']\n",
        "\n",
        "    # Drop NaNs\n",
        "    df = df.dropna(subset=['text', 'label'])\n",
        "\n",
        "    # Map multi-class to binary: 0 = fake, 1 = real\n",
        "    fake_labels = ['false', 'pants-fire', 'barely-true']\n",
        "    df['label'] = df['label'].apply(lambda x: 0 if x in fake_labels else 1)\n",
        "\n",
        "    return df\n",
        "\n",
        "train_df = load_and_prepare(\"train.csv\")\n",
        "valid_df = load_and_prepare(\"valid.csv\")\n",
        "test_df = load_and_prepare(\"test.csv\")\n",
        "\n",
        "# Combine train + valid for training\n",
        "combined_df = pd.concat([train_df, valid_df])\n",
        "\n",
        "# Text preprocessing (optional: add your own cleaning here)\n",
        "combined_df['cleaned_text'] = combined_df['text']\n",
        "test_df['cleaned_text'] = test_df['text']\n",
        "\n",
        "# TF-IDF Vectorization\n",
        "vectorizer = TfidfVectorizer(stop_words='english', max_df=0.7)\n",
        "X_train = vectorizer.fit_transform(combined_df['cleaned_text'])\n",
        "y_train = combined_df['label']\n",
        "\n",
        "X_test = vectorizer.transform(test_df['cleaned_text'])\n",
        "y_test = test_df['label']\n",
        "\n",
        "# Train Logistic Regression\n",
        "lr_model = LogisticRegression(class_weight='balanced')\n",
        "lr_model.fit(X_train, y_train)\n",
        "\n",
        "# Predict\n",
        "y_pred = lr_model.predict(X_test)\n",
        "\n",
        "# Evaluate\n",
        "accuracy = accuracy_score(y_test, y_pred)\n",
        "print(f\"Accuracy: {accuracy:.4f}\")\n",
        "print(\"Classification Report:\\n\", classification_report(y_test, y_pred))\n"
      ]
    },
    {
      "cell_type": "code",
      "execution_count": 26,
      "metadata": {},
      "outputs": [
        {
          "name": "stdout",
          "output_type": "stream",
          "text": [
            "\n",
            "🔍 Evaluating: Logistic Regression\n",
            "Accuracy: 0.6559\n",
            "Classification Report:\n",
            "               precision    recall  f1-score   support\n",
            "\n",
            "           0       0.34      0.48      0.40       304\n",
            "           1       0.81      0.71      0.76       963\n",
            "\n",
            "    accuracy                           0.66      1267\n",
            "   macro avg       0.58      0.59      0.58      1267\n",
            "weighted avg       0.70      0.66      0.67      1267\n",
            "\n",
            "\n",
            "🔍 Evaluating: Naive Bayes\n",
            "Accuracy: 0.7601\n",
            "Classification Report:\n",
            "               precision    recall  f1-score   support\n",
            "\n",
            "           0       0.50      0.00      0.01       304\n",
            "           1       0.76      1.00      0.86       963\n",
            "\n",
            "    accuracy                           0.76      1267\n",
            "   macro avg       0.63      0.50      0.44      1267\n",
            "weighted avg       0.70      0.76      0.66      1267\n",
            "\n",
            "\n",
            "🔍 Evaluating: Random Forest\n",
            "Accuracy: 0.7632\n",
            "Classification Report:\n",
            "               precision    recall  f1-score   support\n",
            "\n",
            "           0       0.57      0.06      0.10       304\n",
            "           1       0.77      0.99      0.86       963\n",
            "\n",
            "    accuracy                           0.76      1267\n",
            "   macro avg       0.67      0.52      0.48      1267\n",
            "weighted avg       0.72      0.76      0.68      1267\n",
            "\n",
            "\n",
            "🔍 Evaluating: SVM (Linear)\n",
            "Accuracy: 0.6590\n",
            "Classification Report:\n",
            "               precision    recall  f1-score   support\n",
            "\n",
            "           0       0.33      0.41      0.37       304\n",
            "           1       0.80      0.74      0.77       963\n",
            "\n",
            "    accuracy                           0.66      1267\n",
            "   macro avg       0.56      0.57      0.57      1267\n",
            "weighted avg       0.69      0.66      0.67      1267\n",
            "\n",
            "\n",
            "🔍 Evaluating: XGBoost\n"
          ]
        },
        {
          "name": "stderr",
          "output_type": "stream",
          "text": [
            "c:\\Users\\tamra\\anaconda3\\Lib\\site-packages\\sklearn\\svm\\_classes.py:32: FutureWarning: The default value of `dual` will change from `True` to `'auto'` in 1.5. Set the value of `dual` explicitly to suppress the warning.\n",
            "  warnings.warn(\n"
          ]
        },
        {
          "name": "stdout",
          "output_type": "stream",
          "text": [
            "Accuracy: 0.7593\n",
            "Classification Report:\n",
            "               precision    recall  f1-score   support\n",
            "\n",
            "           0       0.48      0.05      0.08       304\n",
            "           1       0.77      0.98      0.86       963\n",
            "\n",
            "    accuracy                           0.76      1267\n",
            "   macro avg       0.62      0.52      0.47      1267\n",
            "weighted avg       0.70      0.76      0.67      1267\n",
            "\n"
          ]
        }
      ],
      "source": [
        "import pandas as pd\n",
        "from sklearn.feature_extraction.text import TfidfVectorizer\n",
        "from sklearn.model_selection import train_test_split\n",
        "from sklearn.linear_model import LogisticRegression\n",
        "from sklearn.naive_bayes import MultinomialNB\n",
        "from sklearn.ensemble import RandomForestClassifier\n",
        "from sklearn.svm import LinearSVC\n",
        "from sklearn.metrics import accuracy_score, classification_report\n",
        "import warnings\n",
        "\n",
        "# Optional: XGBoost (install if not available)\n",
        "try:\n",
        "    from xgboost import XGBClassifier\n",
        "    xgb_installed = True\n",
        "except ImportError:\n",
        "    xgb_installed = False\n",
        "    warnings.warn(\"XGBoost not installed. Skipping XGBoost model.\")\n",
        "\n",
        "# Load and prepare function\n",
        "def load_and_prepare(filepath):\n",
        "    df = pd.read_csv(filepath, header=None)\n",
        "    df = df[[1, 2]]\n",
        "    df.columns = ['label', 'text']\n",
        "    df = df.dropna(subset=['text', 'label'])\n",
        "    fake_labels = ['false', 'pants-fire', 'barely-true']\n",
        "    df['label'] = df['label'].apply(lambda x: 0 if x in fake_labels else 1)\n",
        "    return df\n",
        "\n",
        "# Load data\n",
        "train_df = load_and_prepare(\"train.csv\")\n",
        "valid_df = load_and_prepare(\"valid.csv\")\n",
        "test_df = load_and_prepare(\"test.csv\")\n",
        "\n",
        "# Combine train + valid\n",
        "combined_df = pd.concat([train_df, valid_df])\n",
        "combined_df['cleaned_text'] = combined_df['text']\n",
        "test_df['cleaned_text'] = test_df['text']\n",
        "\n",
        "# TF-IDF Vectorization\n",
        "vectorizer = TfidfVectorizer(stop_words='english', max_df=0.7)\n",
        "X_train = vectorizer.fit_transform(combined_df['cleaned_text'])\n",
        "y_train = combined_df['label']\n",
        "X_test = vectorizer.transform(test_df['cleaned_text'])\n",
        "y_test = test_df['label']\n",
        "\n",
        "# Define models\n",
        "models = {\n",
        "    \"Logistic Regression\": LogisticRegression(class_weight='balanced', max_iter=1000),\n",
        "    \"Naive Bayes\": MultinomialNB(),\n",
        "    \"Random Forest\": RandomForestClassifier(n_estimators=100, class_weight='balanced'),\n",
        "    \"SVM (Linear)\": LinearSVC(class_weight='balanced', max_iter=2000),\n",
        "}\n",
        "\n",
        "if xgb_installed:\n",
        "    models[\"XGBoost\"] = XGBClassifier(use_label_encoder=False, eval_metric='logloss')\n",
        "\n",
        "# Train and evaluate\n",
        "for name, model in models.items():\n",
        "    print(f\"\\n🔍 Evaluating: {name}\")\n",
        "    model.fit(X_train, y_train)\n",
        "    y_pred = model.predict(X_test)\n",
        "    acc = accuracy_score(y_test, y_pred)\n",
        "    print(f\"Accuracy: {acc:.4f}\")\n",
        "    print(\"Classification Report:\\n\", classification_report(y_test, y_pred))\n"
      ]
    },
    {
      "cell_type": "code",
      "execution_count": 27,
      "metadata": {},
      "outputs": [
        {
          "name": "stdout",
          "output_type": "stream",
          "text": [
            "WARNING:tensorflow:From c:\\Users\\tamra\\anaconda3\\Lib\\site-packages\\keras\\src\\losses.py:2976: The name tf.losses.sparse_softmax_cross_entropy is deprecated. Please use tf.compat.v1.losses.sparse_softmax_cross_entropy instead.\n",
            "\n",
            "\n",
            "🔁 Training LSTM Model\n",
            "WARNING:tensorflow:From c:\\Users\\tamra\\anaconda3\\Lib\\site-packages\\keras\\src\\backend.py:873: The name tf.get_default_graph is deprecated. Please use tf.compat.v1.get_default_graph instead.\n",
            "\n",
            "Model: \"sequential\"\n",
            "_________________________________________________________________\n",
            " Layer (type)                Output Shape              Param #   \n",
            "=================================================================\n",
            " embedding (Embedding)       (None, 100, 64)           640000    \n",
            "                                                                 \n",
            " lstm (LSTM)                 (None, 64)                33024     \n",
            "                                                                 \n",
            " dropout (Dropout)           (None, 64)                0         \n",
            "                                                                 \n",
            " dense (Dense)               (None, 1)                 65        \n",
            "                                                                 \n",
            "=================================================================\n",
            "Total params: 673089 (2.57 MB)\n",
            "Trainable params: 673089 (2.57 MB)\n",
            "Non-trainable params: 0 (0.00 Byte)\n",
            "_________________________________________________________________\n",
            "Epoch 1/5\n",
            "WARNING:tensorflow:From c:\\Users\\tamra\\anaconda3\\Lib\\site-packages\\keras\\src\\utils\\tf_utils.py:492: The name tf.ragged.RaggedTensorValue is deprecated. Please use tf.compat.v1.ragged.RaggedTensorValue instead.\n",
            "\n",
            "WARNING:tensorflow:From c:\\Users\\tamra\\anaconda3\\Lib\\site-packages\\keras\\src\\engine\\base_layer_utils.py:384: The name tf.executing_eagerly_outside_functions is deprecated. Please use tf.compat.v1.executing_eagerly_outside_functions instead.\n",
            "\n",
            "163/163 - 7s - loss: 0.5638 - accuracy: 0.7561 - val_loss: 0.5876 - val_accuracy: 0.7268 - 7s/epoch - 46ms/step\n",
            "Epoch 2/5\n",
            "163/163 - 4s - loss: 0.5583 - accuracy: 0.7560 - val_loss: 0.5865 - val_accuracy: 0.7268 - 4s/epoch - 25ms/step\n",
            "Epoch 3/5\n",
            "163/163 - 5s - loss: 0.5583 - accuracy: 0.7560 - val_loss: 0.5865 - val_accuracy: 0.7268 - 5s/epoch - 31ms/step\n",
            "Epoch 4/5\n",
            "163/163 - 5s - loss: 0.5585 - accuracy: 0.7560 - val_loss: 0.5871 - val_accuracy: 0.7268 - 5s/epoch - 31ms/step\n",
            "Epoch 5/5\n",
            "163/163 - 5s - loss: 0.5582 - accuracy: 0.7560 - val_loss: 0.5880 - val_accuracy: 0.7268 - 5s/epoch - 30ms/step\n",
            "40/40 [==============================] - 1s 9ms/step\n",
            "\n",
            "🧾 LSTM Evaluation\n",
            "Accuracy: 0.7600631412786109\n",
            "Classification Report:\n",
            "               precision    recall  f1-score   support\n",
            "\n",
            "           0       0.00      0.00      0.00       304\n",
            "           1       0.76      1.00      0.86       963\n",
            "\n",
            "    accuracy                           0.76      1267\n",
            "   macro avg       0.38      0.50      0.43      1267\n",
            "weighted avg       0.58      0.76      0.66      1267\n",
            "\n",
            "\n",
            "🔁 Training BiLSTM Model\n"
          ]
        },
        {
          "name": "stderr",
          "output_type": "stream",
          "text": [
            "c:\\Users\\tamra\\anaconda3\\Lib\\site-packages\\sklearn\\metrics\\_classification.py:1469: UndefinedMetricWarning: Precision and F-score are ill-defined and being set to 0.0 in labels with no predicted samples. Use `zero_division` parameter to control this behavior.\n",
            "  _warn_prf(average, modifier, msg_start, len(result))\n",
            "c:\\Users\\tamra\\anaconda3\\Lib\\site-packages\\sklearn\\metrics\\_classification.py:1469: UndefinedMetricWarning: Precision and F-score are ill-defined and being set to 0.0 in labels with no predicted samples. Use `zero_division` parameter to control this behavior.\n",
            "  _warn_prf(average, modifier, msg_start, len(result))\n",
            "c:\\Users\\tamra\\anaconda3\\Lib\\site-packages\\sklearn\\metrics\\_classification.py:1469: UndefinedMetricWarning: Precision and F-score are ill-defined and being set to 0.0 in labels with no predicted samples. Use `zero_division` parameter to control this behavior.\n",
            "  _warn_prf(average, modifier, msg_start, len(result))\n"
          ]
        },
        {
          "name": "stdout",
          "output_type": "stream",
          "text": [
            "Model: \"sequential_1\"\n",
            "_________________________________________________________________\n",
            " Layer (type)                Output Shape              Param #   \n",
            "=================================================================\n",
            " embedding_1 (Embedding)     (None, 100, 64)           640000    \n",
            "                                                                 \n",
            " bidirectional (Bidirection  (None, 128)               66048     \n",
            " al)                                                             \n",
            "                                                                 \n",
            " dropout_1 (Dropout)         (None, 128)               0         \n",
            "                                                                 \n",
            " dense_1 (Dense)             (None, 1)                 129       \n",
            "                                                                 \n",
            "=================================================================\n",
            "Total params: 706177 (2.69 MB)\n",
            "Trainable params: 706177 (2.69 MB)\n",
            "Non-trainable params: 0 (0.00 Byte)\n",
            "_________________________________________________________________\n",
            "Epoch 1/5\n",
            "163/163 - 10s - loss: 0.5556 - accuracy: 0.7541 - val_loss: 0.5759 - val_accuracy: 0.7268 - 10s/epoch - 59ms/step\n",
            "Epoch 2/5\n",
            "163/163 - 6s - loss: 0.4886 - accuracy: 0.7713 - val_loss: 0.6020 - val_accuracy: 0.7251 - 6s/epoch - 38ms/step\n",
            "Epoch 3/5\n",
            "163/163 - 6s - loss: 0.3807 - accuracy: 0.8322 - val_loss: 0.6990 - val_accuracy: 0.6904 - 6s/epoch - 36ms/step\n",
            "Epoch 4/5\n",
            "163/163 - 7s - loss: 0.2813 - accuracy: 0.8838 - val_loss: 0.8773 - val_accuracy: 0.6453 - 7s/epoch - 41ms/step\n",
            "Epoch 5/5\n",
            "163/163 - 9s - loss: 0.1989 - accuracy: 0.9247 - val_loss: 1.1061 - val_accuracy: 0.6019 - 9s/epoch - 55ms/step\n",
            "40/40 [==============================] - 2s 16ms/step\n",
            "\n",
            "🧾 BiLSTM Evaluation\n",
            "Accuracy: 0.6550907655880032\n",
            "Classification Report:\n",
            "               precision    recall  f1-score   support\n",
            "\n",
            "           0       0.32      0.38      0.35       304\n",
            "           1       0.79      0.74      0.77       963\n",
            "\n",
            "    accuracy                           0.66      1267\n",
            "   macro avg       0.56      0.56      0.56      1267\n",
            "weighted avg       0.68      0.66      0.67      1267\n",
            "\n"
          ]
        }
      ],
      "source": [
        "import pandas as pd\n",
        "import numpy as np\n",
        "from sklearn.metrics import classification_report, accuracy_score\n",
        "from sklearn.preprocessing import LabelEncoder\n",
        "from tensorflow.keras.preprocessing.text import Tokenizer\n",
        "from tensorflow.keras.preprocessing.sequence import pad_sequences\n",
        "from tensorflow.keras.models import Sequential\n",
        "from tensorflow.keras.layers import Embedding, LSTM, Bidirectional, Dense, Dropout\n",
        "from tensorflow.keras.optimizers import Adam\n",
        "\n",
        "# Load and prepare function\n",
        "def load_and_prepare(filepath):\n",
        "    df = pd.read_csv(filepath, header=None)\n",
        "    df = df[[1, 2]]\n",
        "    df.columns = ['label', 'text']\n",
        "    df = df.dropna(subset=['text', 'label'])\n",
        "\n",
        "    # Binary label mapping\n",
        "    fake_labels = ['false', 'pants-fire', 'barely-true']\n",
        "    df['label'] = df['label'].apply(lambda x: 0 if x in fake_labels else 1)\n",
        "\n",
        "    return df\n",
        "\n",
        "# Load datasets\n",
        "train_df = load_and_prepare(\"train.csv\")\n",
        "valid_df = load_and_prepare(\"valid.csv\")\n",
        "test_df = load_and_prepare(\"test.csv\")\n",
        "\n",
        "# Combine train and valid\n",
        "combined_df = pd.concat([train_df, valid_df])\n",
        "\n",
        "# Tokenization\n",
        "MAX_NUM_WORDS = 10000\n",
        "MAX_SEQUENCE_LENGTH = 100\n",
        "\n",
        "tokenizer = Tokenizer(num_words=MAX_NUM_WORDS, oov_token=\"<OOV>\")\n",
        "tokenizer.fit_on_texts(combined_df['text'])\n",
        "\n",
        "X_train = tokenizer.texts_to_sequences(combined_df['text'])\n",
        "X_test = tokenizer.texts_to_sequences(test_df['text'])\n",
        "\n",
        "X_train_padded = pad_sequences(X_train, maxlen=MAX_SEQUENCE_LENGTH, padding='post', truncating='post')\n",
        "X_test_padded = pad_sequences(X_test, maxlen=MAX_SEQUENCE_LENGTH, padding='post', truncating='post')\n",
        "\n",
        "y_train = combined_df['label'].values\n",
        "y_test = test_df['label'].values\n",
        "\n",
        "# --------------------- LSTM Model ---------------------\n",
        "print(\"\\n🔁 Training LSTM Model\")\n",
        "\n",
        "lstm_model = Sequential([\n",
        "    Embedding(MAX_NUM_WORDS, 64, input_length=MAX_SEQUENCE_LENGTH),\n",
        "    LSTM(64),\n",
        "    Dropout(0.3),\n",
        "    Dense(1, activation='sigmoid')\n",
        "])\n",
        "\n",
        "lstm_model.compile(loss='binary_crossentropy', optimizer=Adam(learning_rate=1e-3), metrics=['accuracy'])\n",
        "lstm_model.summary()\n",
        "\n",
        "lstm_model.fit(X_train_padded, y_train, epochs=5, batch_size=64, validation_split=0.1, verbose=2)\n",
        "\n",
        "# Evaluate\n",
        "y_pred_lstm = (lstm_model.predict(X_test_padded) > 0.5).astype(\"int32\")\n",
        "print(\"\\n🧾 LSTM Evaluation\")\n",
        "print(\"Accuracy:\", accuracy_score(y_test, y_pred_lstm))\n",
        "print(\"Classification Report:\\n\", classification_report(y_test, y_pred_lstm))\n",
        "\n",
        "# --------------------- BiLSTM Model ---------------------\n",
        "print(\"\\n🔁 Training BiLSTM Model\")\n",
        "\n",
        "bilstm_model = Sequential([\n",
        "    Embedding(MAX_NUM_WORDS, 64, input_length=MAX_SEQUENCE_LENGTH),\n",
        "    Bidirectional(LSTM(64)),\n",
        "    Dropout(0.3),\n",
        "    Dense(1, activation='sigmoid')\n",
        "])\n",
        "\n",
        "bilstm_model.compile(loss='binary_crossentropy', optimizer=Adam(learning_rate=1e-3), metrics=['accuracy'])\n",
        "bilstm_model.summary()\n",
        "\n",
        "bilstm_model.fit(X_train_padded, y_train, epochs=5, batch_size=64, validation_split=0.1, verbose=2)\n",
        "\n",
        "# Evaluate\n",
        "y_pred_bilstm = (bilstm_model.predict(X_test_padded) > 0.5).astype(\"int32\")\n",
        "print(\"\\n🧾 BiLSTM Evaluation\")\n",
        "print(\"Accuracy:\", accuracy_score(y_test, y_pred_bilstm))\n",
        "print(\"Classification Report:\\n\", classification_report(y_test, y_pred_bilstm))\n"
      ]
    },
    {
      "cell_type": "markdown",
      "metadata": {},
      "source": [
        "### Hyper Parameter Tuning"
      ]
    },
    {
      "cell_type": "code",
      "execution_count": 28,
      "metadata": {},
      "outputs": [
        {
          "name": "stdout",
          "output_type": "stream",
          "text": [
            "\n",
            "🔍 Training LSTM | Embed: 64, Units: 64, Dropout: 0.3, LR: 0.001, Batch: 32\n",
            "40/40 [==============================] - 2s 16ms/step\n",
            "🔹 Accuracy: 0.7601\n",
            "\n",
            "🔍 Training LSTM | Embed: 64, Units: 64, Dropout: 0.3, LR: 0.001, Batch: 64\n",
            "40/40 [==============================] - 1s 14ms/step\n",
            "🔹 Accuracy: 0.7601\n",
            "\n",
            "🔍 Training LSTM | Embed: 64, Units: 64, Dropout: 0.3, LR: 0.0005, Batch: 32\n",
            "40/40 [==============================] - 1s 10ms/step\n",
            "🔹 Accuracy: 0.7601\n",
            "\n",
            "🔍 Training LSTM | Embed: 64, Units: 64, Dropout: 0.3, LR: 0.0005, Batch: 64\n",
            "40/40 [==============================] - 1s 15ms/step\n",
            "🔹 Accuracy: 0.7601\n",
            "\n",
            "🔍 Training LSTM | Embed: 64, Units: 64, Dropout: 0.5, LR: 0.001, Batch: 32\n",
            "40/40 [==============================] - 1s 16ms/step\n",
            "🔹 Accuracy: 0.7601\n",
            "\n",
            "🔍 Training LSTM | Embed: 64, Units: 64, Dropout: 0.5, LR: 0.001, Batch: 64\n",
            "40/40 [==============================] - 1s 11ms/step\n",
            "🔹 Accuracy: 0.7601\n",
            "\n",
            "🔍 Training LSTM | Embed: 64, Units: 64, Dropout: 0.5, LR: 0.0005, Batch: 32\n",
            "40/40 [==============================] - 1s 15ms/step\n",
            "🔹 Accuracy: 0.7601\n",
            "\n",
            "🔍 Training LSTM | Embed: 64, Units: 64, Dropout: 0.5, LR: 0.0005, Batch: 64\n",
            "40/40 [==============================] - 1s 8ms/step\n",
            "🔹 Accuracy: 0.7601\n",
            "\n",
            "🔍 Training LSTM | Embed: 64, Units: 128, Dropout: 0.3, LR: 0.001, Batch: 32\n",
            "40/40 [==============================] - 1s 12ms/step\n",
            "🔹 Accuracy: 0.7601\n",
            "\n",
            "🔍 Training LSTM | Embed: 64, Units: 128, Dropout: 0.3, LR: 0.001, Batch: 64\n",
            "40/40 [==============================] - 1s 12ms/step\n",
            "🔹 Accuracy: 0.7601\n",
            "\n",
            "🔍 Training LSTM | Embed: 64, Units: 128, Dropout: 0.3, LR: 0.0005, Batch: 32\n",
            "40/40 [==============================] - 1s 13ms/step\n",
            "🔹 Accuracy: 0.7601\n",
            "\n",
            "🔍 Training LSTM | Embed: 64, Units: 128, Dropout: 0.3, LR: 0.0005, Batch: 64\n",
            "40/40 [==============================] - 1s 12ms/step\n",
            "🔹 Accuracy: 0.7601\n",
            "\n",
            "🔍 Training LSTM | Embed: 64, Units: 128, Dropout: 0.5, LR: 0.001, Batch: 32\n",
            "40/40 [==============================] - 1s 15ms/step\n",
            "🔹 Accuracy: 0.7601\n",
            "\n",
            "🔍 Training LSTM | Embed: 64, Units: 128, Dropout: 0.5, LR: 0.001, Batch: 64\n",
            "40/40 [==============================] - 1s 14ms/step\n",
            "🔹 Accuracy: 0.7601\n",
            "\n",
            "🔍 Training LSTM | Embed: 64, Units: 128, Dropout: 0.5, LR: 0.0005, Batch: 32\n",
            "40/40 [==============================] - 1s 13ms/step\n",
            "🔹 Accuracy: 0.7601\n",
            "\n",
            "🔍 Training LSTM | Embed: 64, Units: 128, Dropout: 0.5, LR: 0.0005, Batch: 64\n",
            "40/40 [==============================] - 1s 15ms/step\n",
            "🔹 Accuracy: 0.7601\n",
            "\n",
            "🔍 Training LSTM | Embed: 128, Units: 64, Dropout: 0.3, LR: 0.001, Batch: 32\n",
            "40/40 [==============================] - 1s 9ms/step\n",
            "🔹 Accuracy: 0.7601\n",
            "\n",
            "🔍 Training LSTM | Embed: 128, Units: 64, Dropout: 0.3, LR: 0.001, Batch: 64\n",
            "40/40 [==============================] - 1s 8ms/step\n",
            "🔹 Accuracy: 0.7601\n",
            "\n",
            "🔍 Training LSTM | Embed: 128, Units: 64, Dropout: 0.3, LR: 0.0005, Batch: 32\n",
            "40/40 [==============================] - 1s 8ms/step\n",
            "🔹 Accuracy: 0.7601\n",
            "\n",
            "🔍 Training LSTM | Embed: 128, Units: 64, Dropout: 0.3, LR: 0.0005, Batch: 64\n",
            "40/40 [==============================] - 1s 7ms/step\n",
            "🔹 Accuracy: 0.7601\n",
            "\n",
            "🔍 Training LSTM | Embed: 128, Units: 64, Dropout: 0.5, LR: 0.001, Batch: 32\n",
            "40/40 [==============================] - 1s 12ms/step\n",
            "🔹 Accuracy: 0.7601\n",
            "\n",
            "🔍 Training LSTM | Embed: 128, Units: 64, Dropout: 0.5, LR: 0.001, Batch: 64\n",
            "40/40 [==============================] - 1s 9ms/step\n",
            "🔹 Accuracy: 0.7601\n",
            "\n",
            "🔍 Training LSTM | Embed: 128, Units: 64, Dropout: 0.5, LR: 0.0005, Batch: 32\n",
            "40/40 [==============================] - 1s 17ms/step\n",
            "🔹 Accuracy: 0.7601\n",
            "\n",
            "🔍 Training LSTM | Embed: 128, Units: 64, Dropout: 0.5, LR: 0.0005, Batch: 64\n",
            "40/40 [==============================] - 2s 19ms/step\n",
            "🔹 Accuracy: 0.7601\n",
            "\n",
            "🔍 Training LSTM | Embed: 128, Units: 128, Dropout: 0.3, LR: 0.001, Batch: 32\n",
            "40/40 [==============================] - 2s 31ms/step\n",
            "🔹 Accuracy: 0.7601\n",
            "\n",
            "🔍 Training LSTM | Embed: 128, Units: 128, Dropout: 0.3, LR: 0.001, Batch: 64\n",
            "40/40 [==============================] - 2s 31ms/step\n",
            "🔹 Accuracy: 0.7601\n",
            "\n",
            "🔍 Training LSTM | Embed: 128, Units: 128, Dropout: 0.3, LR: 0.0005, Batch: 32\n",
            "40/40 [==============================] - 1s 16ms/step\n",
            "🔹 Accuracy: 0.7601\n",
            "\n",
            "🔍 Training LSTM | Embed: 128, Units: 128, Dropout: 0.3, LR: 0.0005, Batch: 64\n",
            "40/40 [==============================] - 1s 17ms/step\n",
            "🔹 Accuracy: 0.7601\n",
            "\n",
            "🔍 Training LSTM | Embed: 128, Units: 128, Dropout: 0.5, LR: 0.001, Batch: 32\n",
            "40/40 [==============================] - 1s 15ms/step\n",
            "🔹 Accuracy: 0.7601\n",
            "\n",
            "🔍 Training LSTM | Embed: 128, Units: 128, Dropout: 0.5, LR: 0.001, Batch: 64\n",
            "40/40 [==============================] - 1s 14ms/step\n",
            "🔹 Accuracy: 0.7601\n",
            "\n",
            "🔍 Training LSTM | Embed: 128, Units: 128, Dropout: 0.5, LR: 0.0005, Batch: 32\n",
            "40/40 [==============================] - 1s 19ms/step\n",
            "🔹 Accuracy: 0.7601\n",
            "\n",
            "🔍 Training LSTM | Embed: 128, Units: 128, Dropout: 0.5, LR: 0.0005, Batch: 64\n",
            "40/40 [==============================] - 1s 19ms/step\n",
            "🔹 Accuracy: 0.7601\n",
            "\n",
            "🏆 Best LSTM Accuracy: 0.7601\n",
            "Best Params: {'embedding_dim': 64, 'lstm_units': 64, 'dropout': 0.3, 'learning_rate': 0.001, 'batch_size': 32}\n",
            "\n",
            "🔍 Training BILSTM | Embed: 64, Units: 64, Dropout: 0.3, LR: 0.001, Batch: 32\n",
            "40/40 [==============================] - 2s 16ms/step\n",
            "🔹 Accuracy: 0.7601\n",
            "\n",
            "🔍 Training BILSTM | Embed: 64, Units: 64, Dropout: 0.3, LR: 0.001, Batch: 64\n",
            "40/40 [==============================] - 3s 17ms/step\n",
            "🔹 Accuracy: 0.7601\n",
            "\n",
            "🔍 Training BILSTM | Embed: 64, Units: 64, Dropout: 0.3, LR: 0.0005, Batch: 32\n",
            "40/40 [==============================] - 1s 12ms/step\n",
            "🔹 Accuracy: 0.7601\n",
            "\n",
            "🔍 Training BILSTM | Embed: 64, Units: 64, Dropout: 0.3, LR: 0.0005, Batch: 64\n",
            "40/40 [==============================] - 1s 11ms/step\n",
            "🔹 Accuracy: 0.7609\n",
            "\n",
            "🔍 Training BILSTM | Embed: 64, Units: 64, Dropout: 0.5, LR: 0.001, Batch: 32\n",
            "40/40 [==============================] - 1s 11ms/step\n",
            "🔹 Accuracy: 0.7609\n",
            "\n",
            "🔍 Training BILSTM | Embed: 64, Units: 64, Dropout: 0.5, LR: 0.001, Batch: 64\n",
            "40/40 [==============================] - 2s 16ms/step\n",
            "🔹 Accuracy: 0.7601\n",
            "\n",
            "🔍 Training BILSTM | Embed: 64, Units: 64, Dropout: 0.5, LR: 0.0005, Batch: 32\n",
            "40/40 [==============================] - 1s 11ms/step\n",
            "🔹 Accuracy: 0.7601\n",
            "\n",
            "🔍 Training BILSTM | Embed: 64, Units: 64, Dropout: 0.5, LR: 0.0005, Batch: 64\n",
            "40/40 [==============================] - 1s 11ms/step\n",
            "🔹 Accuracy: 0.7632\n",
            "\n",
            "🔍 Training BILSTM | Embed: 64, Units: 128, Dropout: 0.3, LR: 0.001, Batch: 32\n",
            "40/40 [==============================] - 1s 21ms/step\n",
            "🔹 Accuracy: 0.7601\n",
            "\n",
            "🔍 Training BILSTM | Embed: 64, Units: 128, Dropout: 0.3, LR: 0.001, Batch: 64\n",
            "40/40 [==============================] - 1s 19ms/step\n",
            "🔹 Accuracy: 0.7616\n",
            "\n",
            "🔍 Training BILSTM | Embed: 64, Units: 128, Dropout: 0.3, LR: 0.0005, Batch: 32\n",
            "40/40 [==============================] - 2s 31ms/step\n",
            "🔹 Accuracy: 0.7601\n",
            "\n",
            "🔍 Training BILSTM | Embed: 64, Units: 128, Dropout: 0.3, LR: 0.0005, Batch: 64\n",
            "40/40 [==============================] - 1s 16ms/step\n",
            "🔹 Accuracy: 0.7648\n",
            "\n",
            "🔍 Training BILSTM | Embed: 64, Units: 128, Dropout: 0.5, LR: 0.001, Batch: 32\n",
            "40/40 [==============================] - 1s 16ms/step\n",
            "🔹 Accuracy: 0.7601\n",
            "\n",
            "🔍 Training BILSTM | Embed: 64, Units: 128, Dropout: 0.5, LR: 0.001, Batch: 64\n",
            "40/40 [==============================] - 1s 16ms/step\n",
            "🔹 Accuracy: 0.7601\n",
            "\n",
            "🔍 Training BILSTM | Embed: 64, Units: 128, Dropout: 0.5, LR: 0.0005, Batch: 32\n",
            "40/40 [==============================] - 1s 15ms/step\n",
            "🔹 Accuracy: 0.7601\n",
            "\n",
            "🔍 Training BILSTM | Embed: 64, Units: 128, Dropout: 0.5, LR: 0.0005, Batch: 64\n",
            "40/40 [==============================] - 1s 17ms/step\n",
            "🔹 Accuracy: 0.7609\n",
            "\n",
            "🔍 Training BILSTM | Embed: 128, Units: 64, Dropout: 0.3, LR: 0.001, Batch: 32\n",
            "40/40 [==============================] - 1s 9ms/step\n",
            "🔹 Accuracy: 0.7616\n",
            "\n",
            "🔍 Training BILSTM | Embed: 128, Units: 64, Dropout: 0.3, LR: 0.001, Batch: 64\n",
            "40/40 [==============================] - 1s 10ms/step\n",
            "🔹 Accuracy: 0.7601\n",
            "\n",
            "🔍 Training BILSTM | Embed: 128, Units: 64, Dropout: 0.3, LR: 0.0005, Batch: 32\n",
            "40/40 [==============================] - 1s 9ms/step\n",
            "🔹 Accuracy: 0.7601\n",
            "\n",
            "🔍 Training BILSTM | Embed: 128, Units: 64, Dropout: 0.3, LR: 0.0005, Batch: 64\n",
            "40/40 [==============================] - 1s 10ms/step\n",
            "🔹 Accuracy: 0.7601\n",
            "\n",
            "🔍 Training BILSTM | Embed: 128, Units: 64, Dropout: 0.5, LR: 0.001, Batch: 32\n",
            "40/40 [==============================] - 1s 10ms/step\n",
            "🔹 Accuracy: 0.7601\n",
            "\n",
            "🔍 Training BILSTM | Embed: 128, Units: 64, Dropout: 0.5, LR: 0.001, Batch: 64\n",
            "40/40 [==============================] - 1s 9ms/step\n",
            "🔹 Accuracy: 0.7601\n",
            "\n",
            "🔍 Training BILSTM | Embed: 128, Units: 64, Dropout: 0.5, LR: 0.0005, Batch: 32\n",
            "40/40 [==============================] - 1s 10ms/step\n",
            "🔹 Accuracy: 0.7601\n",
            "\n",
            "🔍 Training BILSTM | Embed: 128, Units: 64, Dropout: 0.5, LR: 0.0005, Batch: 64\n",
            "40/40 [==============================] - 1s 9ms/step\n",
            "🔹 Accuracy: 0.7601\n",
            "\n",
            "🔍 Training BILSTM | Embed: 128, Units: 128, Dropout: 0.3, LR: 0.001, Batch: 32\n",
            "40/40 [==============================] - 1s 17ms/step\n",
            "🔹 Accuracy: 0.7553\n",
            "\n",
            "🔍 Training BILSTM | Embed: 128, Units: 128, Dropout: 0.3, LR: 0.001, Batch: 64\n",
            "40/40 [==============================] - 1s 16ms/step\n",
            "🔹 Accuracy: 0.7609\n",
            "\n",
            "🔍 Training BILSTM | Embed: 128, Units: 128, Dropout: 0.3, LR: 0.0005, Batch: 32\n",
            "40/40 [==============================] - 1s 16ms/step\n",
            "🔹 Accuracy: 0.7601\n",
            "\n",
            "🔍 Training BILSTM | Embed: 128, Units: 128, Dropout: 0.3, LR: 0.0005, Batch: 64\n",
            "40/40 [==============================] - 1s 16ms/step\n",
            "🔹 Accuracy: 0.7601\n",
            "\n",
            "🔍 Training BILSTM | Embed: 128, Units: 128, Dropout: 0.5, LR: 0.001, Batch: 32\n",
            "40/40 [==============================] - 2s 17ms/step\n",
            "🔹 Accuracy: 0.7624\n",
            "\n",
            "🔍 Training BILSTM | Embed: 128, Units: 128, Dropout: 0.5, LR: 0.001, Batch: 64\n",
            "40/40 [==============================] - 1s 17ms/step\n",
            "🔹 Accuracy: 0.7601\n",
            "\n",
            "🔍 Training BILSTM | Embed: 128, Units: 128, Dropout: 0.5, LR: 0.0005, Batch: 32\n",
            "40/40 [==============================] - 1s 17ms/step\n",
            "🔹 Accuracy: 0.7601\n",
            "\n",
            "🔍 Training BILSTM | Embed: 128, Units: 128, Dropout: 0.5, LR: 0.0005, Batch: 64\n",
            "40/40 [==============================] - 1s 16ms/step\n",
            "🔹 Accuracy: 0.7601\n",
            "\n",
            "🏆 Best BILSTM Accuracy: 0.7648\n",
            "Best Params: {'embedding_dim': 64, 'lstm_units': 128, 'dropout': 0.3, 'learning_rate': 0.0005, 'batch_size': 64}\n"
          ]
        }
      ],
      "source": [
        "from tensorflow.keras.callbacks import EarlyStopping\n",
        "from tensorflow.keras.optimizers import Adam\n",
        "\n",
        "def train_and_evaluate(model_type=\"lstm\", param_grid={}):\n",
        "    best_model = None\n",
        "    best_accuracy = 0\n",
        "    best_params = {}\n",
        "\n",
        "    for embed_dim in param_grid['embedding_dim']:\n",
        "        for lstm_units in param_grid['lstm_units']:\n",
        "            for dropout in param_grid['dropout']:\n",
        "                for lr in param_grid['learning_rate']:\n",
        "                    for batch in param_grid['batch_size']:\n",
        "                        print(f\"\\n🔍 Training {model_type.upper()} | Embed: {embed_dim}, Units: {lstm_units}, Dropout: {dropout}, LR: {lr}, Batch: {batch}\")\n",
        "\n",
        "                        model = Sequential()\n",
        "                        model.add(Embedding(MAX_NUM_WORDS, embed_dim, input_length=MAX_SEQUENCE_LENGTH))\n",
        "\n",
        "                        if model_type == \"bilstm\":\n",
        "                            model.add(Bidirectional(LSTM(lstm_units)))\n",
        "                        else:\n",
        "                            model.add(LSTM(lstm_units))\n",
        "\n",
        "                        model.add(Dropout(dropout))\n",
        "                        model.add(Dense(1, activation='sigmoid'))\n",
        "\n",
        "                        model.compile(loss='binary_crossentropy', optimizer=Adam(learning_rate=lr), metrics=['accuracy'])\n",
        "\n",
        "                        history = model.fit(\n",
        "                            X_train_padded, y_train,\n",
        "                            validation_split=0.1,\n",
        "                            epochs=5,\n",
        "                            batch_size=batch,\n",
        "                            verbose=0,\n",
        "                            callbacks=[EarlyStopping(patience=2, restore_best_weights=True)]\n",
        "                        )\n",
        "\n",
        "                        y_pred = (model.predict(X_test_padded) > 0.5).astype(\"int32\")\n",
        "                        acc = accuracy_score(y_test, y_pred)\n",
        "\n",
        "                        print(f\"🔹 Accuracy: {acc:.4f}\")\n",
        "\n",
        "                        if acc > best_accuracy:\n",
        "                            best_accuracy = acc\n",
        "                            best_model = model\n",
        "                            best_params = {\n",
        "                                'embedding_dim': embed_dim,\n",
        "                                'lstm_units': lstm_units,\n",
        "                                'dropout': dropout,\n",
        "                                'learning_rate': lr,\n",
        "                                'batch_size': batch\n",
        "                            }\n",
        "\n",
        "    print(f\"\\n🏆 Best {model_type.upper()} Accuracy: {best_accuracy:.4f}\")\n",
        "    print(\"Best Params:\", best_params)\n",
        "    return best_model, best_params, best_accuracy\n",
        "\n",
        "\n",
        "# Hyperparameter options\n",
        "param_grid = {\n",
        "    'embedding_dim': [64, 128],\n",
        "    'lstm_units': [64, 128],\n",
        "    'dropout': [0.3, 0.5],\n",
        "    'learning_rate': [1e-3, 5e-4],\n",
        "    'batch_size': [32, 64]\n",
        "}\n",
        "\n",
        "# Run tuning\n",
        "best_lstm_model, lstm_params, lstm_acc = train_and_evaluate(\"lstm\", param_grid)\n",
        "best_bilstm_model, bilstm_params, bilstm_acc = train_and_evaluate(\"bilstm\", param_grid)\n"
      ]
    },
    {
      "cell_type": "code",
      "execution_count": null,
      "metadata": {},
      "outputs": [],
      "source": []
    },
    {
      "cell_type": "code",
      "execution_count": 30,
      "metadata": {},
      "outputs": [
        {
          "name": "stdout",
          "output_type": "stream",
          "text": [
            "325/325 [==============================] - 2s 8ms/step\n",
            "37/37 [==============================] - 0s 7ms/step\n",
            "40/40 [==============================] - 0s 8ms/step\n",
            "325/325 [==============================] - 5s 16ms/step\n",
            "37/37 [==============================] - 1s 16ms/step\n",
            "40/40 [==============================] - 1s 16ms/step\n"
          ]
        },
        {
          "name": "stderr",
          "output_type": "stream",
          "text": [
            "C:\\Users\\tamra\\AppData\\Local\\Temp\\ipykernel_5832\\601917716.py:52: UserWarning: Glyph 128202 (\\N{BAR CHART}) missing from current font.\n",
            "  plt.tight_layout()\n",
            "c:\\Users\\tamra\\anaconda3\\Lib\\site-packages\\IPython\\core\\pylabtools.py:152: UserWarning: Glyph 128202 (\\N{BAR CHART}) missing from current font.\n",
            "  fig.canvas.print_figure(bytes_io, **kw)\n"
          ]
        },
        {
          "data": {
            "image/png": "[encoded data removed]",
            "text/plain": [
              "<Figure size 1000x600 with 1 Axes>"
            ]
          },
          "metadata": {},
          "output_type": "display_data"
        }
      ],
      "source": [
        "import matplotlib.pyplot as plt\n",
        "import seaborn as sns\n",
        "from sklearn.metrics import accuracy_score\n",
        "\n",
        "def evaluate_model_on_sets(model, X_train, y_train, X_val, y_val, X_test, y_test, model_name=\"Model\"):\n",
        "    train_preds = (model.predict(X_train) > 0.5).astype(\"int32\")\n",
        "    val_preds = (model.predict(X_val) > 0.5).astype(\"int32\")\n",
        "    test_preds = (model.predict(X_test) > 0.5).astype(\"int32\")\n",
        "\n",
        "    train_acc = accuracy_score(y_train, train_preds)\n",
        "    val_acc = accuracy_score(y_val, val_preds)\n",
        "    test_acc = accuracy_score(y_test, test_preds)\n",
        "\n",
        "    return {\n",
        "        \"Train\": train_acc,\n",
        "        \"Validation\": val_acc,\n",
        "        \"Test\": test_acc,\n",
        "        \"Model\": model_name\n",
        "    }\n",
        "\n",
        "# Create validation split index\n",
        "val_split = 0.1\n",
        "val_start = int((1 - val_split) * X_train_padded.shape[0])\n",
        "\n",
        "# Split train and validation\n",
        "X_train_final = X_train_padded[:val_start]\n",
        "y_train_final = y_train[:val_start]\n",
        "\n",
        "X_val_final = X_train_padded[val_start:]\n",
        "y_val_final = y_train[val_start:]\n",
        "\n",
        "# Evaluate LSTM\n",
        "lstm_results = evaluate_model_on_sets(best_lstm_model, X_train_final, y_train_final, X_val_final, y_val_final, X_test_padded, y_test, \"LSTM\")\n",
        "\n",
        "# Evaluate BiLSTM\n",
        "bilstm_results = evaluate_model_on_sets(best_bilstm_model, X_train_final, y_train_final, X_val_final, y_val_final, X_test_padded, y_test, \"BiLSTM\")\n",
        "\n",
        "# Combine results into DataFrame for plotting\n",
        "results_df = pd.DataFrame([lstm_results, bilstm_results])\n",
        "results_df = results_df.set_index(\"Model\").T.reset_index().rename(columns={\"index\": \"Dataset\"})\n",
        "\n",
        "# Plot\n",
        "plt.figure(figsize=(10, 6))\n",
        "sns.barplot(data=results_df.melt(id_vars=\"Dataset\", var_name=\"Model\", value_name=\"Accuracy\"), x=\"Dataset\", y=\"Accuracy\", hue=\"Model\", palette=\"Set2\")\n",
        "plt.title(\"📊 Accuracy Comparison of LSTM vs BiLSTM on LIAR Dataset\", fontsize=14)\n",
        "plt.ylim(0, 1.05)\n",
        "plt.ylabel(\"Accuracy\")\n",
        "plt.xlabel(\"Dataset\")\n",
        "for i, row in results_df.melt(id_vars=\"Dataset\").iterrows():\n",
        "    plt.text(i // 2 + (0.1 if row[\"Model\"] == \"BiLSTM\" else -0.25), row[\"value\"] + 0.01, f\"{row['value']:.2%}\", fontsize=9)\n",
        "plt.legend(loc='lower right')\n",
        "plt.tight_layout()\n",
        "plt.grid(True, linestyle='--', linewidth=0.5)\n",
        "plt.show()\n"
      ]
    },
    {
      "cell_type": "code",
      "execution_count": 31,
      "metadata": {},
      "outputs": [
        {
          "name": "stderr",
          "output_type": "stream",
          "text": [
            "c:\\Users\\tamra\\anaconda3\\Lib\\site-packages\\keras\\src\\engine\\training.py:3103: UserWarning: You are saving your model as an HDF5 file via `model.save()`. This file format is considered legacy. We recommend using instead the native Keras format, e.g. `model.save('my_model.keras')`.\n",
            "  saving_api.save_model(\n"
          ]
        },
        {
          "data": {
            "text/plain": [
              "['lstm_tokenizer.pkl']"
            ]
          },
          "execution_count": 31,
          "metadata": {},
          "output_type": "execute_result"
        }
      ],
      "source": [
        "# Save LSTM model\n",
        "best_bilstm_model.save(\"lstm_fake_news_model.h5\")\n",
        "\n",
        "# Save tokenizer\n",
        "joblib.dump(tokenizer, \"lstm_tokenizer.pkl\")"
      ]
    },
    {
      "cell_type": "code",
      "execution_count": 32,
      "metadata": {},
      "outputs": [],
      "source": [
        "# ✅ Wrap everything for .pkl saving\n",
        "class LSTMWrapper:\n",
        "    def __init__(self, model_path, tokenizer):\n",
        "        self.model = tf.keras.models.load_model(model_path)\n",
        "        self.tokenizer = tokenizer\n",
        "        self.max_length = 100  # same as used in training\n",
        "\n",
        "    def predict(self, text):\n",
        "        seq = self.tokenizer.texts_to_sequences([text])\n",
        "        padded = pad_sequences(seq, maxlen=self.max_length, padding=\"post\")\n",
        "        pred = self.model.predict(padded)[0][0]\n",
        "        label = \"Fake\" if pred < 0.5 else \"Real\"\n",
        "        return label, float(pred if label == \"Real\" else 1 - pred)"
      ]
    },
    {
      "cell_type": "code",
      "execution_count": 33,
      "metadata": {},
      "outputs": [
        {
          "data": {
            "text/plain": [
              "['Fake_News_Model.pkl']"
            ]
          },
          "execution_count": 33,
          "metadata": {},
          "output_type": "execute_result"
        }
      ],
      "source": [
        "# ✅ Create and save wrapper object\n",
        "lstm_wrapper = LSTMWrapper(\"lstm_fake_news_model.h5\", tokenizer)\n",
        "joblib.dump(lstm_wrapper, \"Fake_News_Model.pkl\")"
      ]
    },
    {
      "cell_type": "code",
      "execution_count": null,
      "metadata": {},
      "outputs": [],
      "source": []
    }
  ],
  "metadata": {
    "colab": {
      "collapsed_sections": [
        "EdDEOCnCka17"
      ],
      "provenance": []
    },
    "kernelspec": {
      "display_name": "base",
      "language": "python",
      "name": "python3"
    },
    "language_info": {
      "codemirror_mode": {
        "name": "ipython",
        "version": 3
      },
      "file_extension": ".py",
      "mimetype": "text/x-python",
      "name": "python",
      "nbconvert_exporter": "python",
      "pygments_lexer": "ipython3",
      "version": "3.11.7"
    }
  },
  "nbformat": 4,
  "nbformat_minor": 0
}
